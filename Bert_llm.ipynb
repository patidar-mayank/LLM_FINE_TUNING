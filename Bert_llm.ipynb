{
  "nbformat": 4,
  "nbformat_minor": 0,
  "metadata": {
    "colab": {
      "provenance": []
    },
    "kernelspec": {
      "name": "python3",
      "display_name": "Python 3"
    },
    "language_info": {
      "name": "python"
    }
  },
  "cells": [
    {
      "cell_type": "code",
      "execution_count": null,
      "metadata": {
        "id": "9hmhHypyvezR"
      },
      "outputs": [],
      "source": []
    },
    {
      "cell_type": "markdown",
      "source": [
        " **Step 1: Load Datasets For Hate speech**"
      ],
      "metadata": {
        "id": "6MFsEYG6v7Rz"
      }
    },
    {
      "cell_type": "code",
      "source": [
        "dataset = load_dataset(\"hate_speech18\")"
      ],
      "metadata": {
        "id": "j33mmZzKv73N"
      },
      "execution_count": null,
      "outputs": []
    },
    {
      "cell_type": "markdown",
      "source": [
        " **Step 2: Load pre-trained BERT model**"
      ],
      "metadata": {
        "id": "Pd7QjhZ6v-9a"
      }
    },
    {
      "cell_type": "code",
      "source": [
        "model = BertForSequenceClassification.from_pretrained('bert-base-uncased', num_labels=2)"
      ],
      "metadata": {
        "id": "xNWirOXQwB1e"
      },
      "execution_count": null,
      "outputs": []
    },
    {
      "cell_type": "markdown",
      "source": [
        "**Step 3: Tokenize data**"
      ],
      "metadata": {
        "id": "vGkxTYgOwGRc"
      }
    },
    {
      "cell_type": "code",
      "source": [
        "def tokenize_function(examples):\n",
        "    return tokenizer(examples['text'], padding='max_length', truncation=True)\n",
        "tokenized_datasets = dataset.map(tokenize_function, batched=True)"
      ],
      "metadata": {
        "id": "STVqWRQRwJ7z"
      },
      "execution_count": null,
      "outputs": []
    },
    {
      "cell_type": "markdown",
      "source": [
        "**Step 4: Set training parameters**"
      ],
      "metadata": {
        "id": "3vRANbEbwOz0"
      }
    },
    {
      "cell_type": "code",
      "source": [
        "training_args = TrainingArguments(\n",
        "    learning_rate=2e-5,\n",
        "    per_device_train_batch_size=16,\n",
        "    num_train_epochs=3,\n",
        "    logging_dir='./logs',\n",
        ")"
      ],
      "metadata": {
        "id": "dGwbd63IwRVP"
      },
      "execution_count": null,
      "outputs": []
    },
    {
      "cell_type": "markdown",
      "source": [
        "**Step 5: Create Trainer instance**"
      ],
      "metadata": {
        "id": "H-if4FNPwUti"
      }
    },
    {
      "cell_type": "code",
      "source": [
        "trainer = Trainer(\n",
        "    model=model,\n",
        "    args=training_args,\n",
        "    train_dataset=tokenized_datasets['train'],\n",
        "    eval_dataset=tokenized_datasets['test'],\n",
        ")"
      ],
      "metadata": {
        "id": "wqGGUwmIwYrU"
      },
      "execution_count": null,
      "outputs": []
    },
    {
      "cell_type": "markdown",
      "source": [
        "**Step 6: Train the model**"
      ],
      "metadata": {
        "id": "d_t24SQ4wckn"
      }
    },
    {
      "cell_type": "code",
      "source": [
        "trainer.train()"
      ],
      "metadata": {
        "id": "rOdlMl9EwfDl"
      },
      "execution_count": null,
      "outputs": []
    }
  ]
}